import geopandas as gpd 
imoprt pandas as pd 
import numpy as np 
import rasterio 
import rasterio.plot 
from shapely.geometry import Point

data = pd.read_csv('Test2022-08-09.csv')
data.head()
